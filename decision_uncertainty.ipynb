{
 "cells": [
  {
   "cell_type": "code",
   "execution_count": 1,
   "metadata": {
    "collapsed": true
   },
   "outputs": [],
   "source": [
    "class uncedeci:\n",
    "    \n",
    "    def __init__(self,Acciones,CostUnid,PrecVent,ValSal,PenDem,EstNat):\n",
    "        self.CostUnid = CostUnid\n",
    "        self.PrecVent = PrecVent\n",
    "        self.ValSal = ValSal\n",
    "        self.PenDem = PenDem\n",
    "        self.Acciones = Acciones\n",
    "        self.EstNat = EstNat\n",
    "        \n",
    "    def getMatPagos(self, MatPagos=None):\n",
    "        if MatPagos is None:\n",
    "            MatPagos = [[i * (self.ValSal - self.CostUnid) + j * (self.PrecVent - self.ValSal) if i > j else i * (self.PrecVent + self.PenDem - self.CostUnid) - j * self.PenDem for j in self.EstNat] for i in self.Acciones]\n",
    "        self.MatPagos = MatPagos"
   ]
  },
  {
   "cell_type": "code",
   "execution_count": 2,
   "metadata": {},
   "outputs": [],
   "source": [
    "class wald(uncedeci):\n",
    "        \n",
    "    def arrays(self, MatPagos=None):\n",
    "        super().getMatPagos(MatPagos)\n",
    "        self.minArray = [min(self.MatPagos[i]) for i in range(len(self.Acciones))]\n",
    "        self.maxArray = [max(self.MatPagos[i]) for i in range(len(self.Acciones))]\n",
    "        \n",
    "    '''Maximin'''\n",
    "    def maximin(self, MatPagos=None):\n",
    "        self.arrays()\n",
    "        self.x = max(self.minArray)\n",
    "        self.minindex()\n",
    "\n",
    "    '''Minimax'''\n",
    "    def minimax(self, MatPagos=None):\n",
    "        self.arrays(MatPagos)\n",
    "        self.x = min(self.maxArray)\n",
    "        self.maxindex()\n",
    "\n",
    "    '''Minimin'''\n",
    "    def minimin(self, MatPagos=None):\n",
    "        self.arrays()\n",
    "        self.x = min(self.minArray)\n",
    "        self.minindex()\n",
    "\n",
    "    '''Maximax'''\n",
    "    def maximax(self, MatPagos=None):\n",
    "        self.arrays()\n",
    "        self.x = max(self.maxArray)\n",
    "        self.maxindex()\n",
    "        \n",
    "    def minindex(self):\n",
    "        self.y = self.minArray.index(self.x)\n",
    "        self.z = Acciones[self.y]\n",
    "        print(self.z,self.x)\n",
    "        \n",
    "    def maxindex(self):\n",
    "        self.y = self.maxArray.index(self.x)\n",
    "        self.z = Acciones[self.y]\n",
    "        print(self.z,self.x)"
   ]
  },
  {
   "cell_type": "code",
   "execution_count": 3,
   "metadata": {
    "collapsed": true
   },
   "outputs": [],
   "source": [
    "class laplace_c(uncedeci):\n",
    "    '''Criterio de Laplace'''\n",
    "    def laplace(self):\n",
    "        super().getMatPagos()\n",
    "        self.EqProb = 1/len(self.EstNat)\n",
    "\n",
    "        self.result = [sum(k) * self.EqProb for k in self.MatPagos]\n",
    "\n",
    "        self.x = max(self.result)\n",
    "        self.y = self.result.index(self.x)\n",
    "        self.z = Acciones[self.y]\n",
    "        print(self.z,self.x)"
   ]
  },
  {
   "cell_type": "code",
   "execution_count": 4,
   "metadata": {
    "collapsed": true
   },
   "outputs": [],
   "source": [
    "class hurwicz_c(uncedeci):\n",
    "    '''Criterio de Hurwicz'''\n",
    "    def hurwicz(self,a):\n",
    "        super().getMatPagos()\n",
    "        self.a = a\n",
    "        self.Hur = [max(k) * self.a + min(k) * (1-self.a) for k in self.MatPagos]\n",
    "\n",
    "        self.x = max(self.Hur)\n",
    "        self.y = self.Hur.index(self.x)\n",
    "        self.z = Acciones[self.y]\n",
    "        print(self.z,self.x)"
   ]
  },
  {
   "cell_type": "code",
   "execution_count": 5,
   "metadata": {},
   "outputs": [],
   "source": [
    "class savage_c(wald):\n",
    "    '''Criterio de Savage: Matriz de arrepentimientos'''\n",
    "        \n",
    "    def savage(self):\n",
    "        super().getMatPagos()\n",
    "        self.mptransp = [list(x) for x in zip(*self.MatPagos)]\n",
    "        self.maxcolumn = [max(k) for k in self.mptransp]\n",
    "\n",
    "        MatPagos  = [[matP - maxcolumn for matP, maxcolumn in zip(self.maxcolumn, mprow)] for mprow in self.MatPagos]\n",
    "\n",
    "        self.minimax(MatPagos)\n",
    "        "
   ]
  },
  {
   "cell_type": "code",
   "execution_count": 6,
   "metadata": {},
   "outputs": [
    {
     "name": "stdout",
     "output_type": "stream",
     "text": [
      "10 -1000\n",
      "7 3200\n",
      "13 -2200\n",
      "13 6800\n",
      "10 2400.0\n",
      "13 5000.0\n",
      "13 2400\n"
     ]
    }
   ],
   "source": [
    "CostUnid = 1000\n",
    "PrecVent = 1600\n",
    "ValSal = 600\n",
    "PenDem = 1200\n",
    "Acciones = [7,10,13]\n",
    "EstNat = [3,6,9,12]\n",
    "\n",
    "test = wald(Acciones,CostUnid,PrecVent,ValSal,PenDem,EstNat)\n",
    "test.maximin()\n",
    "test.minimax()\n",
    "test.minimin()\n",
    "test.maximax()\n",
    "\n",
    "test2 = laplace_c(Acciones,CostUnid,PrecVent,ValSal,PenDem,EstNat)\n",
    "test2.laplace()\n",
    "\n",
    "test3 = hurwicz_c(Acciones,CostUnid,PrecVent,ValSal,PenDem,EstNat)\n",
    "test3.hurwicz(0.8)\n",
    "\n",
    "test4 = savage_c(Acciones,CostUnid,PrecVent,ValSal,PenDem,EstNat)\n",
    "test4.savage()"
   ]
  },
  {
   "cell_type": "code",
   "execution_count": null,
   "metadata": {
    "collapsed": true
   },
   "outputs": [],
   "source": []
  }
 ],
 "metadata": {
  "kernelspec": {
   "display_name": "Python 3",
   "language": "python",
   "name": "python3"
  },
  "language_info": {
   "codemirror_mode": {
    "name": "ipython",
    "version": 3
   },
   "file_extension": ".py",
   "mimetype": "text/x-python",
   "name": "python",
   "nbconvert_exporter": "python",
   "pygments_lexer": "ipython3",
   "version": "3.6.3"
  }
 },
 "nbformat": 4,
 "nbformat_minor": 2
}
